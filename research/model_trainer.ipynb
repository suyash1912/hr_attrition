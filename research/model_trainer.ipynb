{
 "cells": [
  {
   "cell_type": "code",
   "execution_count": 1,
   "id": "5ffc9b33",
   "metadata": {},
   "outputs": [],
   "source": [
    "import os"
   ]
  },
  {
   "cell_type": "code",
   "execution_count": 2,
   "id": "19a93ac3",
   "metadata": {},
   "outputs": [],
   "source": [
    "os.chdir(\"../\")"
   ]
  },
  {
   "cell_type": "code",
   "execution_count": 3,
   "id": "0f3cdfd2",
   "metadata": {},
   "outputs": [],
   "source": [
    "from dataclasses import dataclass\n",
    "from pathlib import Path\n",
    "\n",
    "@dataclass\n",
    "class ModelTrainingConfig:\n",
    "    root_dir: Path\n",
    "    train_data_path: Path\n",
    "    test_data_path: Path\n",
    "    model_path: Path\n",
    "    C: float\n",
    "    penalty: str\n",
    "    solver: str\n",
    "    class_weight: str  # use Optional[str] if you plan to set None\n",
    "    max_iter: int\n",
    "    random_state: int"
   ]
  },
  {
   "cell_type": "code",
   "execution_count": 4,
   "id": "a0c534bc",
   "metadata": {},
   "outputs": [],
   "source": [
    "from hr_attrition.constants import *\n",
    "from hr_attrition.utils.common import read_yaml, create_directories"
   ]
  },
  {
   "cell_type": "code",
   "execution_count": 10,
   "id": "09109692",
   "metadata": {},
   "outputs": [],
   "source": [
    "class ConfigurationManager:\n",
    "    def __init__(\n",
    "        self,\n",
    "        config_filepath = CONFIG_FILE_PATH,\n",
    "        params_filepath = PARAMS_FILE_PATH,\n",
    "        schema_filepath = SCHEMA_FILE_PATH):\n",
    "\n",
    "        self.config = read_yaml(config_filepath)\n",
    "        self.params = read_yaml(params_filepath)\n",
    "        self.schema = read_yaml(schema_filepath)\n",
    "\n",
    "        create_directories([self.config.artifacts_root])\n",
    "\n",
    "\n",
    "   \n",
    "\n",
    "    def get_model_trainer_config(self) -> ModelTrainingConfig:\n",
    "     config = self.config.model_training\n",
    "     params = self.params.model_params\n",
    "\n",
    "     create_directories([config.root_dir])\n",
    "\n",
    "     model_trainer_config = ModelTrainingConfig(\n",
    "        root_dir=Path(config.root_dir),\n",
    "        train_data_path=Path(config.train_data_path),\n",
    "        test_data_path=Path(config.test_data_path),\n",
    "        model_path=Path(config.model_path),\n",
    "        C=params.C,\n",
    "        penalty=params.penalty,\n",
    "        solver=params.solver,\n",
    "        class_weight=params.class_weight,\n",
    "        max_iter=params.max_iter,\n",
    "        random_state=params.random_state\n",
    "    )\n",
    "\n",
    "     return model_trainer_config\n",
    "\n",
    "    \n",
    "\n",
    "\n",
    "    "
   ]
  },
  {
   "cell_type": "code",
   "execution_count": 8,
   "id": "2be093f0",
   "metadata": {},
   "outputs": [],
   "source": [
    "import pandas as pd\n",
    "import os\n",
    "from hr_attrition.utils.logging import logger\n",
    "from sklearn.linear_model import LogisticRegression\n",
    "import joblib\n",
    "\n",
    "\n",
    "class ModelTrainer:\n",
    "    def __init__(self, config: ModelTrainingConfig):\n",
    "        self.config = config\n",
    "\n",
    "    def train(self):\n",
    "        # Load the data\n",
    "        train_data = pd.read_csv(self.config.train_data_path)\n",
    "        test_data = pd.read_csv(self.config.test_data_path)\n",
    "\n",
    "        # Separate features and target\n",
    "        train_x = train_data.drop(\"Attrition\", axis=1)\n",
    "        test_x = test_data.drop(\"Attrition\", axis=1)\n",
    "        train_y = train_data[\"Attrition\"]\n",
    "        test_y = test_data[\"Attrition\"]\n",
    "\n",
    "        # Initialize and train logistic regression model\n",
    "        model = LogisticRegression(\n",
    "            C=self.config.C,\n",
    "            penalty=self.config.penalty,\n",
    "            solver=self.config.solver,\n",
    "            class_weight=self.config.class_weight,\n",
    "            max_iter=self.config.max_iter,\n",
    "            random_state=self.config.random_state\n",
    "        )\n",
    "        model.fit(train_x, train_y)\n",
    "\n",
    "        # Save model to disk\n",
    "        joblib.dump(model, self.config.model_path)\n",
    "\n",
    "        logger.info(f\"Model trained and saved at {self.config.model_path}\")\n"
   ]
  },
  {
   "cell_type": "code",
   "execution_count": 11,
   "id": "66175d47",
   "metadata": {},
   "outputs": [
    {
     "name": "stdout",
     "output_type": "stream",
     "text": [
      "[2025-04-16 16:03:52,130: INFO: common: yaml file: config\\config.yaml loaded successfully]\n",
      "[2025-04-16 16:03:52,134: INFO: common: yaml file: params.yaml loaded successfully]\n",
      "[2025-04-16 16:03:52,140: INFO: common: yaml file: schema.yaml loaded successfully]\n",
      "[2025-04-16 16:03:52,141: INFO: common: created directory at: artifacts]\n",
      "[2025-04-16 16:03:52,143: INFO: common: created directory at: artifacts/model_training]\n",
      "[2025-04-16 16:03:52,618: INFO: 3934808436: Model trained and saved at artifacts\\model_training\\logreg_model.pkl]\n"
     ]
    }
   ],
   "source": [
    "try:\n",
    "    config = ConfigurationManager()\n",
    "    model_trainer_config = config.get_model_trainer_config()\n",
    "    \n",
    "    model_trainer = ModelTrainer(config=model_trainer_config)\n",
    "    model_trainer.train()\n",
    "except Exception as e:\n",
    "    raise e\n"
   ]
  },
  {
   "cell_type": "code",
   "execution_count": null,
   "id": "505ecea6",
   "metadata": {},
   "outputs": [],
   "source": []
  },
  {
   "cell_type": "code",
   "execution_count": null,
   "id": "0aba0132",
   "metadata": {},
   "outputs": [],
   "source": []
  },
  {
   "cell_type": "code",
   "execution_count": null,
   "id": "2f0e07df",
   "metadata": {},
   "outputs": [],
   "source": []
  },
  {
   "cell_type": "code",
   "execution_count": null,
   "id": "c5ecd7ac",
   "metadata": {},
   "outputs": [],
   "source": []
  },
  {
   "cell_type": "code",
   "execution_count": null,
   "id": "0749add3",
   "metadata": {},
   "outputs": [],
   "source": []
  },
  {
   "cell_type": "code",
   "execution_count": null,
   "id": "98335b89",
   "metadata": {},
   "outputs": [],
   "source": []
  }
 ],
 "metadata": {
  "kernelspec": {
   "display_name": "hra",
   "language": "python",
   "name": "python3"
  },
  "language_info": {
   "codemirror_mode": {
    "name": "ipython",
    "version": 3
   },
   "file_extension": ".py",
   "mimetype": "text/x-python",
   "name": "python",
   "nbconvert_exporter": "python",
   "pygments_lexer": "ipython3",
   "version": "3.10.16"
  }
 },
 "nbformat": 4,
 "nbformat_minor": 5
}
