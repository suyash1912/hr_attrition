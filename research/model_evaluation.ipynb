{
 "cells": [
  {
   "cell_type": "code",
   "execution_count": 1,
   "id": "f05dd12a",
   "metadata": {},
   "outputs": [],
   "source": [
    "import os"
   ]
  },
  {
   "cell_type": "code",
   "execution_count": 2,
   "id": "e5978b08",
   "metadata": {},
   "outputs": [
    {
     "data": {
      "text/plain": [
       "'c:\\\\projects\\\\hr_attrition\\\\research'"
      ]
     },
     "execution_count": 2,
     "metadata": {},
     "output_type": "execute_result"
    }
   ],
   "source": [
    "%pwd"
   ]
  },
  {
   "cell_type": "code",
   "execution_count": 3,
   "id": "3f2c3690",
   "metadata": {},
   "outputs": [],
   "source": [
    "os.chdir(\"../\")"
   ]
  },
  {
   "cell_type": "code",
   "execution_count": 4,
   "id": "457baa6b",
   "metadata": {},
   "outputs": [],
   "source": [
    "from dataclasses import dataclass\n",
    "from pathlib import Path\n",
    "\n",
    "\n",
    "@dataclass(frozen=True)\n",
    "class ModelEvaluationConfig:\n",
    "    root_dir: Path\n",
    "    test_data_path: Path\n",
    "    model_path: Path\n",
    "    all_params: dict\n",
    "    metric_file_name: Path\n",
    "    target_column: str"
   ]
  },
  {
   "cell_type": "code",
   "execution_count": 5,
   "id": "1874aa29",
   "metadata": {},
   "outputs": [],
   "source": [
    "\n",
    "from hr_attrition.constants import *\n",
    "from hr_attrition.utils.common import read_yaml, create_directories, save_json"
   ]
  },
  {
   "cell_type": "code",
   "execution_count": 6,
   "id": "7104df45",
   "metadata": {},
   "outputs": [],
   "source": [
    "from hr_attrition.constants import *\n",
    "from hr_attrition.utils.common import read_yaml, create_directories, save_json\n",
    "  # Assuming this is where ModelEvaluationConfig is defined\n",
    "\n",
    "class ConfigurationManager:\n",
    "    def __init__(\n",
    "        self,\n",
    "        config_filepath=CONFIG_FILE_PATH,\n",
    "        params_filepath=PARAMS_FILE_PATH,\n",
    "        schema_filepath=SCHEMA_FILE_PATH):\n",
    "\n",
    "        self.config = read_yaml(config_filepath)\n",
    "        self.params = read_yaml(params_filepath)\n",
    "        self.schema = read_yaml(schema_filepath)\n",
    "\n",
    "        create_directories([self.config.artifacts_root])\n",
    "\n",
    "    def get_model_evaluation_config(self) -> ModelEvaluationConfig:\n",
    "        config = self.config.model_evaluation\n",
    "        params = self.params.model_params\n",
    "        schema = self.schema.TARGET_COLUMN\n",
    "\n",
    "        # Ensure the root directory for model evaluation exists\n",
    "        create_directories([config.root_dir])\n",
    "\n",
    "        # Create and return the ModelEvaluationConfig object\n",
    "        model_evaluation_config = ModelEvaluationConfig(\n",
    "            root_dir=Path(config.root_dir),\n",
    "            test_data_path=Path(config.test_data_path),\n",
    "            model_path=Path(config.model_path),\n",
    "            all_params=params,\n",
    "            metric_file_name=Path(config.metric_file_name),\n",
    "            target_column=schema.name\n",
    "        )\n",
    "        return model_evaluation_config\n",
    "        \n"
   ]
  },
  {
   "cell_type": "code",
   "execution_count": 8,
   "id": "61fb1afd",
   "metadata": {},
   "outputs": [],
   "source": [
    "import pandas as pd\n",
    "from sklearn.metrics import accuracy_score, precision_score, recall_score, f1_score, roc_auc_score\n",
    "from hr_attrition.utils.common import save_json\n",
    "import joblib\n",
    "\n",
    "class ModelEvaluation:\n",
    "    def __init__(self, config: ModelEvaluationConfig):\n",
    "        self.config = config\n",
    "\n",
    "    def eval_metrics(self, actual, pred):\n",
    "        \"\"\"\n",
    "        Evaluate binary classification metrics.\n",
    "        \"\"\"\n",
    "        accuracy = accuracy_score(actual, pred)\n",
    "        precision = precision_score(actual, pred)\n",
    "        recall = recall_score(actual, pred)\n",
    "        f1 = f1_score(actual, pred)\n",
    "        roc_auc = roc_auc_score(actual, pred)\n",
    "        return accuracy, precision, recall, f1, roc_auc\n",
    "\n",
    "    def save_results(self):\n",
    "        \"\"\"\n",
    "        Load test data, make predictions, evaluate metrics, and save results.\n",
    "        \"\"\"\n",
    "        # Load test data and model\n",
    "        test_data = pd.read_csv(self.config.test_data_path)\n",
    "        model = joblib.load(self.config.model_path)\n",
    "\n",
    "        # Separate features and target\n",
    "        test_x = test_data.drop([self.config.target_column], axis=1)\n",
    "        test_y = test_data[self.config.target_column]\n",
    "\n",
    "        # Ensure target column is numerical (if categorical)\n",
    "        if test_y.dtype == 'object':\n",
    "            test_y = test_y.map({\"Yes\": 1, \"No\": 0})  # Adjust mapping based on your data\n",
    "\n",
    "        # Make predictions\n",
    "        predicted_labels = model.predict(test_x)\n",
    "\n",
    "        # Evaluate metrics\n",
    "        accuracy, precision, recall, f1, roc_auc = self.eval_metrics(test_y, predicted_labels)\n",
    "\n",
    "        # Save metrics as JSON\n",
    "        scores = {\n",
    "            \"accuracy\": accuracy,\n",
    "            \"precision\": precision,\n",
    "            \"recall\": recall,\n",
    "            \"f1_score\": f1,\n",
    "            \"roc_auc\": roc_auc\n",
    "        }\n",
    "        save_json(path=self.config.metric_file_name, data=scores)"
   ]
  },
  {
   "cell_type": "code",
   "execution_count": 10,
   "id": "6f8892a9",
   "metadata": {},
   "outputs": [
    {
     "name": "stdout",
     "output_type": "stream",
     "text": [
      "[2025-04-17 18:39:44,098: INFO: common: yaml file: config\\config.yaml loaded successfully]\n",
      "[2025-04-17 18:39:44,102: INFO: common: yaml file: params.yaml loaded successfully]\n"
     ]
    },
    {
     "name": "stdout",
     "output_type": "stream",
     "text": [
      "[2025-04-17 18:39:44,106: INFO: common: yaml file: schema.yaml loaded successfully]\n",
      "[2025-04-17 18:39:44,107: INFO: common: created directory at: artifacts]\n",
      "[2025-04-17 18:39:44,109: INFO: common: created directory at: artifacts/model_evaluation]\n",
      "[2025-04-17 18:39:44,915: INFO: common: json file saved at: artifacts\\model_evaluation\\metrics.json]\n"
     ]
    }
   ],
   "source": [
    "\n",
    "\n",
    "\n",
    "try:\n",
    "    # Initialize the configuration manager\n",
    "    config = ConfigurationManager()\n",
    "\n",
    "    # Get the model evaluation configuration\n",
    "    model_eval_config = config.get_model_evaluation_config()\n",
    "\n",
    "    # Initialize the ModelEvaluation class\n",
    "    model_evaluation = ModelEvaluation(config=model_eval_config)\n",
    "\n",
    "    # Perform evaluation and save results\n",
    "    model_evaluation.save_results()\n",
    "\n",
    "except FileNotFoundError as e:\n",
    "    # Handle missing files (e.g., test data or model file)\n",
    "    print(f\"File not found: {e}\")\n",
    "    raise e\n",
    "\n",
    "except Exception as e:\n",
    "    # Log and re-raise other exceptions\n",
    "    print(f\"An error occurred during model evaluation: {e}\")\n",
    "    raise e"
   ]
  },
  {
   "cell_type": "code",
   "execution_count": null,
   "id": "b9550269",
   "metadata": {},
   "outputs": [],
   "source": []
  }
 ],
 "metadata": {
  "kernelspec": {
   "display_name": "hra",
   "language": "python",
   "name": "python3"
  },
  "language_info": {
   "codemirror_mode": {
    "name": "ipython",
    "version": 3
   },
   "file_extension": ".py",
   "mimetype": "text/x-python",
   "name": "python",
   "nbconvert_exporter": "python",
   "pygments_lexer": "ipython3",
   "version": "3.10.16"
  }
 },
 "nbformat": 4,
 "nbformat_minor": 5
}
