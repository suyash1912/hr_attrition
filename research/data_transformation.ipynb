{
 "cells": [
  {
   "cell_type": "code",
   "execution_count": 2,
   "id": "6a67b7ec",
   "metadata": {},
   "outputs": [],
   "source": [
    "import os"
   ]
  },
  {
   "cell_type": "code",
   "execution_count": 3,
   "id": "b63cb852",
   "metadata": {},
   "outputs": [
    {
     "data": {
      "text/plain": [
       "'c:\\\\projects\\\\hr_attrition\\\\research'"
      ]
     },
     "execution_count": 3,
     "metadata": {},
     "output_type": "execute_result"
    }
   ],
   "source": [
    "%pwd"
   ]
  },
  {
   "cell_type": "code",
   "execution_count": 4,
   "id": "22056228",
   "metadata": {},
   "outputs": [],
   "source": [
    "os.chdir(\"../\")"
   ]
  },
  {
   "cell_type": "code",
   "execution_count": 5,
   "id": "768e8578",
   "metadata": {},
   "outputs": [],
   "source": [
    "from dataclasses import dataclass\n",
    "from pathlib import Path\n",
    "\n",
    "\n",
    "@dataclass(frozen=True)\n",
    "class DataTransformationConfig:\n",
    "    root_dir: Path\n",
    "    data_path: Path"
   ]
  },
  {
   "cell_type": "code",
   "execution_count": 5,
   "id": "b3bd799d",
   "metadata": {},
   "outputs": [],
   "source": [
    "from hr_attrition.constants import *\n",
    "from hr_attrition.utils.common import read_yaml, create_directories"
   ]
  },
  {
   "cell_type": "code",
   "execution_count": 6,
   "id": "99e961cd",
   "metadata": {},
   "outputs": [],
   "source": [
    "class ConfigurationManager:\n",
    "    def __init__(\n",
    "        self,\n",
    "        config_filepath = CONFIG_FILE_PATH,\n",
    "        params_filepath = PARAMS_FILE_PATH,\n",
    "        schema_filepath = SCHEMA_FILE_PATH):\n",
    "\n",
    "        self.config = read_yaml(config_filepath)\n",
    "        self.params = read_yaml(params_filepath)\n",
    "        self.schema = read_yaml(schema_filepath)\n",
    "\n",
    "        create_directories([self.config.artifacts_root])\n",
    "    def get_data_transformation_config(self) -> DataTransformationConfig:\n",
    "        config = self.config.data_transformation\n",
    "\n",
    "        create_directories([config.root_dir])\n",
    "\n",
    "        data_transformation_config = DataTransformationConfig(\n",
    "            root_dir=config.root_dir,\n",
    "            data_path=config.data_path,\n",
    "        )\n",
    "\n",
    "        return data_transformation_config"
   ]
  },
  {
   "cell_type": "code",
   "execution_count": 7,
   "id": "e159cd74",
   "metadata": {},
   "outputs": [],
   "source": [
    "import os\n",
    "from hr_attrition.utils.logging import logger\n",
    "from sklearn.model_selection import train_test_split\n",
    "import pandas as pd"
   ]
  },
  {
   "cell_type": "code",
   "execution_count": 1,
   "id": "8ad1c855",
   "metadata": {},
   "outputs": [],
   "source": [
    "import os\n",
    "import pandas as pd\n",
    "from sklearn.model_selection import train_test_split\n",
    "from sklearn.preprocessing import StandardScaler, PowerTransformer\n",
    "from sklearn.impute import SimpleImputer\n",
    "from sklearn.compose import ColumnTransformer\n",
    "from sklearn.pipeline import Pipeline\n",
    "from sklearn.preprocessing import OneHotEncoder\n",
    "from hr_attrition import logger\n",
    "from hr_attrition.entity.config_entity import DataTransformationConfig\n",
    "\n",
    "\n",
    "class DataTransformation:\n",
    "    def __init__(self, config: DataTransformationConfig):\n",
    "        self.config = config\n",
    "\n",
    "    def load_data(self):\n",
    "        data = pd.read_csv(self.config.data_path)\n",
    "        logger.info(\"Data loaded successfully.\")\n",
    "        return data\n",
    "\n",
    "    def preprocess_data(self, df: pd.DataFrame) -> pd.DataFrame:\n",
    "        # Map Attrition to binary: Yes -> 1, No -> 0\n",
    "        df[\"Attrition\"] = df[\"Attrition\"].map({\"Yes\": 1, \"No\": 0})\n",
    "        logger.info(\"Mapped target 'Attrition' to binary.\")\n",
    "\n",
    "        # Separate features and target\n",
    "        target = df[\"Attrition\"]\n",
    "        X = df.drop(columns=[\"Attrition\"])\n",
    "\n",
    "        # Separate numeric and categorical columns\n",
    "        num_cols = X.select_dtypes(include=['int64', 'float64']).columns.tolist()\n",
    "        cat_cols = X.select_dtypes(include=['object']).columns.tolist()\n",
    "\n",
    "        logger.info(f\"Numerical columns: {num_cols}\")\n",
    "        logger.info(f\"Categorical columns: {cat_cols}\")\n",
    "\n",
    "        # Pipelines\n",
    "        numeric_pipeline = Pipeline(steps=[\n",
    "            (\"imputer\", SimpleImputer(strategy=\"mean\")),\n",
    "            (\"scaler\", StandardScaler()),\n",
    "            (\"power_transform\", PowerTransformer(method=\"yeo-johnson\"))\n",
    "        ])\n",
    "\n",
    "        categorical_pipeline = Pipeline(steps=[\n",
    "            (\"imputer\", SimpleImputer(strategy=\"most_frequent\")),\n",
    "            (\"encoder\", OneHotEncoder(drop=\"first\", handle_unknown='ignore'))\n",
    "        ])\n",
    "\n",
    "        preprocessor = ColumnTransformer(transformers=[\n",
    "            (\"num\", numeric_pipeline, num_cols),\n",
    "            (\"cat\", categorical_pipeline, cat_cols)\n",
    "        ])\n",
    "\n",
    "        logger.info(\"Fitting and transforming the features.\")\n",
    "        X_processed = preprocessor.fit_transform(X)\n",
    "\n",
    "        # Get column names\n",
    "        cat_encoded_cols = preprocessor.named_transformers_[\"cat\"][\"encoder\"].get_feature_names_out(cat_cols)\n",
    "        feature_names = num_cols + list(cat_encoded_cols)\n",
    "\n",
    "        X_processed = pd.DataFrame(X_processed, columns=feature_names)\n",
    "\n",
    "        # Add target back\n",
    "        df_final = pd.concat([X_processed, target.reset_index(drop=True)], axis=1)\n",
    "\n",
    "        return df_final\n",
    "\n",
    "    def train_test_spliting(self):\n",
    "        df = self.load_data()\n",
    "        df_processed = self.preprocess_data(df)\n",
    "\n",
    "        train, test = train_test_split(\n",
    "            df_processed,\n",
    "            test_size=self.config.test_size,\n",
    "            random_state=self.config.random_state,\n",
    "            stratify=df_processed[\"Attrition\"]\n",
    "        )\n",
    "\n",
    "        train.to_csv(os.path.join(self.config.root_dir, \"train.csv\"), index=False)\n",
    "        test.to_csv(os.path.join(self.config.root_dir, \"test.csv\"), index=False)\n",
    "\n",
    "        logger.info(\"Data preprocessed and split with stratification on binary target.\")\n",
    "        logger.info(f\"Train shape: {train.shape}, Test shape: {test.shape}\")\n",
    "\n",
    "        print(\"Train shape:\", train.shape)\n",
    "        print(\"Test shape:\", test.shape)\n"
   ]
  },
  {
   "cell_type": "code",
   "execution_count": 9,
   "id": "90d3ff41",
   "metadata": {},
   "outputs": [
    {
     "name": "stdout",
     "output_type": "stream",
     "text": [
      "[2025-04-14 19:32:11,591: INFO: common: yaml file: config\\config.yaml loaded successfully]\n",
      "[2025-04-14 19:32:11,594: INFO: common: yaml file: params.yaml loaded successfully]\n",
      "[2025-04-14 19:32:11,599: INFO: common: yaml file: schema.yaml loaded successfully]\n",
      "[2025-04-14 19:32:11,602: INFO: common: created directory at: artifacts]\n",
      "[2025-04-14 19:32:11,604: INFO: common: created directory at: artifacts/data_transformation]\n",
      "[2025-04-14 19:32:11,639: INFO: 2016861143: Splited data into training and test sets]\n",
      "[2025-04-14 19:32:11,641: INFO: 2016861143: (1102, 35)]\n",
      "[2025-04-14 19:32:11,644: INFO: 2016861143: (368, 35)]\n",
      "(1102, 35)\n"
     ]
    }
   ],
   "source": [
    "try:\n",
    "    config = ConfigurationManager()\n",
    "    data_transformation_config = config.get_data_transformation_config()\n",
    "    data_transformation = DataTransformation(config=data_transformation_config)\n",
    "    data_transformation.train_test_spliting()\n",
    "except Exception as e:\n",
    "    raise e"
   ]
  },
  {
   "cell_type": "code",
   "execution_count": null,
   "id": "12d0b04e",
   "metadata": {},
   "outputs": [],
   "source": []
  }
 ],
 "metadata": {
  "kernelspec": {
   "display_name": "hra",
   "language": "python",
   "name": "python3"
  },
  "language_info": {
   "codemirror_mode": {
    "name": "ipython",
    "version": 3
   },
   "file_extension": ".py",
   "mimetype": "text/x-python",
   "name": "python",
   "nbconvert_exporter": "python",
   "pygments_lexer": "ipython3",
   "version": "3.10.16"
  }
 },
 "nbformat": 4,
 "nbformat_minor": 5
}
